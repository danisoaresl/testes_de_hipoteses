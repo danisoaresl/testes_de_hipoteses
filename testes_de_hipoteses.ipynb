{
  "nbformat": 4,
  "nbformat_minor": 0,
  "metadata": {
    "colab": {
      "private_outputs": true,
      "provenance": [],
      "authorship_tag": "ABX9TyM7kaNLuUVf8BKKk8hIFoW/",
      "include_colab_link": true
    },
    "kernelspec": {
      "name": "python3",
      "display_name": "Python 3"
    },
    "language_info": {
      "name": "python"
    }
  },
  "cells": [
    {
      "cell_type": "markdown",
      "metadata": {
        "id": "view-in-github",
        "colab_type": "text"
      },
      "source": [
        "<a href=\"https://colab.research.google.com/github/danisoaresl/testes_de_hipoteses/blob/exercise/testes_de_hipoteses.ipynb\" target=\"_parent\"><img src=\"https://colab.research.google.com/assets/colab-badge.svg\" alt=\"Open In Colab\"/></a>"
      ]
    },
    {
      "cell_type": "code",
      "source": [
        "from google.colab import drive\n",
        "\n",
        "# Montar o Google Drive\n",
        "drive.mount('/content/drive')\n"
      ],
      "metadata": {
        "id": "2CsQx2fU-nWR"
      },
      "execution_count": null,
      "outputs": []
    },
    {
      "cell_type": "code",
      "source": [
        "import os\n",
        "\n",
        "# Verifique os arquivos na pasta testes_de_hipoteses\n",
        "path = '/content/drive/MyDrive/testes_de_hipoteses/'\n",
        "print(os.listdir(path))\n"
      ],
      "metadata": {
        "id": "uyQRnK_DAXeS"
      },
      "execution_count": null,
      "outputs": []
    },
    {
      "cell_type": "code",
      "source": [
        "import pandas as pd\n",
        "\n",
        "# Carregar o CSV com o nome correto\n",
        "df_ab = pd.read_csv('/content/drive/MyDrive/testes_de_hipoteses/experimento_teste_ab.csv')\n"
      ],
      "metadata": {
        "id": "xIzi8jFaAmSQ"
      },
      "execution_count": null,
      "outputs": []
    },
    {
      "cell_type": "markdown",
      "source": [
        "1. Maior taxa de conversão\n",
        "Para calcular a taxa de conversão de cada cenário, você precisa verificar o número de conversões em relação ao total de usuários testados em cada um.\n",
        "\n",
        "Passos:\n",
        "\n",
        "Carregar o CSV experimento_test_ab.csv.\n",
        "Agrupar os dados por cenário (A e B).\n",
        "Calcular a taxa de conversão para cada cenário.\n",
        "Comparar as taxas para encontrar a maior.\n"
      ],
      "metadata": {
        "id": "k4_KIYOo7ze-"
      }
    },
    {
      "cell_type": "code",
      "source": [
        "# Exibir as primeiras linhas do DataFrame e os nomes das colunas\n",
        "print(df_ab.head())\n",
        "print(df_ab.columns)\n"
      ],
      "metadata": {
        "id": "QMXdDpsdAxuI"
      },
      "execution_count": null,
      "outputs": []
    },
    {
      "cell_type": "code",
      "source": [
        "# Agrupar por versão da página e calcular a taxa de conversão\n",
        "df_ab_grouped = df_ab.groupby('Versão_Página')['Conversões'].mean()\n",
        "\n",
        "# Verificar qual versão tem a maior taxa de conversão\n",
        "maior_taxa_conversao = df_ab_grouped.idxmax()\n",
        "print(f'A versão com a maior taxa de conversão é: {maior_taxa_conversao}')\n"
      ],
      "metadata": {
        "id": "DiI0rD_-71V0"
      },
      "execution_count": null,
      "outputs": []
    },
    {
      "cell_type": "markdown",
      "source": [
        "2. Tamanho da amostra necessária\n",
        "Para calcular o tamanho da amostra, podemos utilizar a fórmula para teste A/B com base nos critérios fornecidos (95% de confiança, 80% de poder estatístico e um aumento de 10% na conversão).\n",
        "\n",
        "A fórmula básica para o cálculo de tamanho de amostra é:"
      ],
      "metadata": {
        "id": "CmoLc9xo8r5m"
      }
    },
    {
      "cell_type": "code",
      "source": [
        "from IPython.display import Image, display\n",
        "\n",
        "# Substitua 'sua_imagem.png' pelo nome da sua imagem\n",
        "display(Image(filename='/content/drive/MyDrive/testes_de_hipoteses/Fórmula do Tamanho da Amostra para Proporções em Testes A-B.png'))\n",
        "\n"
      ],
      "metadata": {
        "id": "KzDtN0iVBZt7"
      },
      "execution_count": null,
      "outputs": []
    },
    {
      "cell_type": "markdown",
      "source": [],
      "metadata": {
        "id": "92sWJUihDNUu"
      }
    },
    {
      "cell_type": "code",
      "source": [
        "import numpy as np\n",
        "from statsmodels.stats.power import TTestIndPower\n",
        "\n",
        "# Parâmetros\n",
        "alpha = 0.05  # nível de significância\n",
        "power = 0.80  # poder do teste\n",
        "p1 = 0.10     # taxa de conversão atual (cenário A)\n",
        "p2 = p1 + 0.10  # taxa de conversão esperada (aumento de 10%)\n",
        "\n",
        "# Cálculo do tamanho da amostra\n",
        "effect_size = p2 - p1\n",
        "analysis = TTestIndPower()\n",
        "sample_size = analysis.solve_power(effect_size=effect_size, alpha=alpha, power=power)\n",
        "\n",
        "print(f\"Tamanho da amostra necessário: {int(np.ceil(sample_size))}\")  # arredondar para cima\n",
        "\n"
      ],
      "metadata": {
        "id": "kH2aIrL59jLV"
      },
      "execution_count": null,
      "outputs": []
    },
    {
      "cell_type": "markdown",
      "source": [
        "3. A idade média das pessoas com problemas cardíacos é maior que 50 anos?\n",
        "Aqui, precisamos calcular a média da idade para a amostra e, em seguida, aplicar um teste t para verificar se a média é maior que 50.\n",
        "\n"
      ],
      "metadata": {
        "id": "YuZ9SHGdEeHc"
      }
    },
    {
      "cell_type": "code",
      "source": [
        "import pandas as pd\n",
        "from scipy import stats\n",
        "\n",
        "# Carregar a base pacientes.csv\n",
        "df_pacientes = pd.read_csv('/content/drive/MyDrive/testes_de_hipoteses/pacientes.csv')\n",
        "\n",
        "# Verificar os nomes das colunas\n",
        "print(df_pacientes.columns)\n",
        "\n",
        "# Índices da amostra\n",
        "indices = [909, 751, 402, 400, 726, 39, 184, 269, 255, 769,\n",
        "           209, 715, 677, 381, 793, 697, 89, 280, 232, 756,\n",
        "           358, 36, 439, 768, 967, 699, 473, 222, 89, 639,\n",
        "           883, 558, 757, 84, 907, 895, 217, 224, 311, 348,\n",
        "           146, 505, 273, 957, 362]\n",
        "\n",
        "# Amostra de idades (ajustar o nome da coluna para 'Idade')\n",
        "amostra = df_pacientes.loc[indices, 'Idade']  # Use 'Idade' com letra maiúscula\n",
        "\n",
        "# Hipótese nula: idade média = 50 anos\n",
        "t_stat, p_value = stats.ttest_1samp(amostra, 50)\n",
        "\n",
        "# Resultado do teste\n",
        "print(f\"t-stat: {t_stat:.4f}, p-value: {p_value:.4f}\")\n",
        "\n",
        "if p_value < 0.05:\n",
        "    print(\"Rejeitamos a hipótese nula. A idade média é maior que 50 anos.\")\n",
        "else:\n",
        "    print(\"Não podemos rejeitar a hipótese nula. A idade média não é significativamente maior que 50 anos.\")\n",
        "\n",
        "\n",
        "\n"
      ],
      "metadata": {
        "id": "J7jZUH71Ee-o"
      },
      "execution_count": null,
      "outputs": []
    },
    {
      "cell_type": "markdown",
      "source": [
        "4. Queremos entender que tipo de amostra estamos lidando se dividirmos os conjuntos em 2, sendo um com pessoas que têm condições de saúde adicionais e o outro com pessoas saudáveis. Seria dependente ou independente?"
      ],
      "metadata": {
        "id": "GUFXnwezGQOT"
      }
    },
    {
      "cell_type": "markdown",
      "source": [
        "5. Pressão arterial média entre grupos com e sem condições de saúde adicionais\n",
        "Para comparar as pressões arteriais entre esses grupos, aplicaremos um teste t para amostras independentes."
      ],
      "metadata": {
        "id": "vpig1QsOHPO-"
      }
    },
    {
      "cell_type": "code",
      "source": [
        "print(df_pacientes.columns)\n"
      ],
      "metadata": {
        "id": "ZCwY_PGpHgy4"
      },
      "execution_count": null,
      "outputs": []
    },
    {
      "cell_type": "code",
      "source": [
        "import os\n",
        "\n",
        "# Listar arquivos no diretório\n",
        "path = '/content/drive/MyDrive/'  # Altere conforme necessário\n",
        "files = os.listdir(path)\n",
        "print(files)\n"
      ],
      "metadata": {
        "id": "8gEcK5_7IBlm"
      },
      "execution_count": null,
      "outputs": []
    },
    {
      "cell_type": "code",
      "source": [
        "import pandas as pd\n",
        "\n",
        "# Carregar a base de dados\n",
        "df_pacientes = pd.read_csv('/content/drive/MyDrive/testes_de_hipoteses/pacientes.csv')\n",
        "\n",
        "# Verificar os nomes das colunas\n",
        "print(df_pacientes.columns)\n",
        "\n",
        "# Filtrar grupos\n",
        "df_saudaveis = df_pacientes[df_pacientes['Estado_Saude'] == 'Saudável']\n",
        "df_com_condicoes = df_pacientes[df_pacientes['Estado_Saude'] != 'Saudável']  # Alterar conforme necessário\n",
        "\n",
        "# Número de pacientes em cada grupo\n",
        "print(\"Número de pacientes saudáveis:\", len(df_saudaveis))\n",
        "print(\"Número de pacientes com condições de saúde adicionais:\", len(df_com_condicoes))\n",
        "\n"
      ],
      "metadata": {
        "id": "tZxyLcZlGUlo"
      },
      "execution_count": null,
      "outputs": []
    },
    {
      "cell_type": "code",
      "source": [
        "import pandas as pd\n",
        "\n",
        "# Carregar a base de dados\n",
        "df_pacientes = pd.read_csv('/content/drive/MyDrive/testes_de_hipoteses/pacientes.csv')\n",
        "\n",
        "# Verificar os nomes das colunas\n",
        "print(df_pacientes.columns)\n",
        "\n",
        "# Contar o número de pacientes saudáveis e com condições de saúde adicionais\n",
        "num_saudaveis = df_pacientes[df_pacientes['Estado_Saude'] == 'Saudável'].shape[0]\n",
        "num_condicoes_adicionais = df_pacientes[df_pacientes['Estado_Saude'] != 'Saudável'].shape[0]\n",
        "\n",
        "print(f\"Número de pacientes saudáveis: {num_saudaveis}\")\n",
        "print(f\"Número de pacientes com condições de saúde adicionais: {num_condicoes_adicionais}\")\n",
        "\n",
        "# Análise estatística (se necessário)\n",
        "# Exemplo: Média e desvio padrão das idades para ambos os grupos\n",
        "media_idade_saudaveis = df_pacientes[df_pacientes['Estado_Saude'] == 'Saudável']['Idade'].mean()\n",
        "media_idade_condicoes = df_pacientes[df_pacientes['Estado_Saude'] != 'Saudável']['Idade'].mean()\n",
        "\n",
        "desvio_idade_saudaveis = df_pacientes[df_pacientes['Estado_Saude'] == 'Saudável']['Idade'].std()\n",
        "desvio_idade_condicoes = df_pacientes[df_pacientes['Estado_Saude'] != 'Saudável']['Idade'].std()\n",
        "\n",
        "print(f\"Média da idade dos pacientes saudáveis: {media_idade_saudaveis}, Desvio padrão: {desvio_idade_saudaveis}\")\n",
        "print(f\"Média da idade dos pacientes com condições de saúde adicionais: {media_idade_condicoes}, Desvio padrão: {desvio_idade_condicoes}\")\n"
      ],
      "metadata": {
        "id": "_8lbNtgyI-ge"
      },
      "execution_count": null,
      "outputs": []
    },
    {
      "cell_type": "code",
      "source": [
        "import pandas as pd\n",
        "\n",
        "# Montar o Google Drive (se ainda não tiver feito)\n",
        "from google.colab import drive\n",
        "drive.mount('/content/drive')\n",
        "\n",
        "# Carregar a base de dados com o caminho correto\n",
        "df_pacientes = pd.read_csv('/content/drive/MyDrive/testes_de_hipoteses/pacientes.csv')\n",
        "\n",
        "# Visualizar as primeiras linhas do DataFrame\n",
        "print(df_pacientes.head())\n",
        "\n",
        "# Verificar os valores únicos na coluna Estado_Saude\n",
        "print(df_pacientes['Estado_Saude'].unique())\n",
        "\n",
        "# Contar o número de pacientes por estado de saúde\n",
        "print(df_pacientes['Estado_Saude'].value_counts())\n"
      ],
      "metadata": {
        "id": "_Bxa7_DlL1-d"
      },
      "execution_count": null,
      "outputs": []
    },
    {
      "cell_type": "code",
      "source": [
        "# Calcular média e desvio padrão da idade dos pacientes saudáveis\n",
        "media_idade_saudaveis = df_pacientes[df_pacientes['Estado_Saude'] == 0]['Idade'].mean()\n",
        "desvio_padrao_saudaveis = df_pacientes[df_pacientes['Estado_Saude'] == 0]['Idade'].std()\n",
        "\n",
        "# Calcular média e desvio padrão da idade dos pacientes com condições de saúde adicionais\n",
        "media_idade_com_condicoes = df_pacientes[df_pacientes['Estado_Saude'] == 1]['Idade'].mean()\n",
        "desvio_padrao_com_condicoes = df_pacientes[df_pacientes['Estado_Saude'] == 1]['Idade'].std()\n",
        "\n",
        "# Exibir resultados\n",
        "print(f\"Média da idade dos pacientes saudáveis: {media_idade_saudaveis:.2f}, Desvio padrão: {desvio_padrao_saudaveis:.2f}\")\n",
        "print(f\"Média da idade dos pacientes com condições de saúde adicionais: {media_idade_com_condicoes:.2f}, Desvio padrão: {desvio_padrao_com_condicoes:.2f}\")\n"
      ],
      "metadata": {
        "id": "oB3qO_QkMNeq"
      },
      "execution_count": null,
      "outputs": []
    },
    {
      "cell_type": "code",
      "source": [
        "import pandas as pd\n",
        "from scipy import stats\n",
        "\n",
        "# Supondo que df_pacientes já está carregado\n",
        "indices = [690, 894, 67, 201, 364, 19, 60, 319, 588, 643, 855, 623, 530, 174, 105, 693, 6, 462, 973, 607, 811, 346, 354, 966, 943, 372]\n",
        "\n",
        "# Filtrar os dados pelos índices\n",
        "dados_filtrados = df_pacientes.loc[indices]\n",
        "\n",
        "# Separar os grupos\n",
        "grupo_adicional = dados_filtrados[dados_filtrados['Estado_Saude'] == 1]['Pressao_Arterial']\n",
        "grupo_saudavel = dados_filtrados[dados_filtrados['Estado_Saude'] == 0]['Pressao_Arterial']\n",
        "\n",
        "# Teste t para duas amostras\n",
        "t_stat, p_value = stats.ttest_ind(grupo_adicional, grupo_saudavel, equal_var=False)  # equal_var=False se as variâncias forem diferentes\n",
        "\n",
        "# Nível de significância\n",
        "alpha = 0.06\n",
        "\n",
        "# Verificar se rejeitamos a hipótese nula\n",
        "if p_value < alpha:\n",
        "    resultado = \"Rejeitamos a hipótese nula. As médias são diferentes.\"\n",
        "else:\n",
        "    resultado = \"Não rejeitamos a hipótese nula. Não há evidência suficiente para afirmar que as médias são diferentes.\"\n",
        "\n",
        "# Resultados\n",
        "t_stat, p_value, resultado\n"
      ],
      "metadata": {
        "id": "UUC6gPRzM0Z0"
      },
      "execution_count": null,
      "outputs": []
    }
  ]
}