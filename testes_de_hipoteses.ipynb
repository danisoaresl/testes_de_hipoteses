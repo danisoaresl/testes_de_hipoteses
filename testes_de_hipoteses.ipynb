{
  "nbformat": 4,
  "nbformat_minor": 0,
  "metadata": {
    "colab": {
      "private_outputs": true,
      "provenance": [],
      "authorship_tag": "ABX9TyMX8uls+f7A9rXVhagymNEO",
      "include_colab_link": true
    },
    "kernelspec": {
      "name": "python3",
      "display_name": "Python 3"
    },
    "language_info": {
      "name": "python"
    }
  },
  "cells": [
    {
      "cell_type": "markdown",
      "metadata": {
        "id": "view-in-github",
        "colab_type": "text"
      },
      "source": [
        "<a href=\"https://colab.research.google.com/github/danisoaresl/testes_de_hipoteses/blob/exercise/testes_de_hipoteses.ipynb\" target=\"_parent\"><img src=\"https://colab.research.google.com/assets/colab-badge.svg\" alt=\"Open In Colab\"/></a>"
      ]
    },
    {
      "cell_type": "code",
      "source": [
        "from google.colab import drive\n",
        "\n",
        "# Montar o Google Drive\n",
        "drive.mount('/content/drive')\n"
      ],
      "metadata": {
        "id": "2CsQx2fU-nWR"
      },
      "execution_count": null,
      "outputs": []
    },
    {
      "cell_type": "code",
      "source": [
        "import os\n",
        "\n",
        "# Verifique os arquivos na pasta testes_de_hipoteses\n",
        "path = '/content/drive/MyDrive/testes_de_hipoteses/'\n",
        "print(os.listdir(path))\n"
      ],
      "metadata": {
        "id": "uyQRnK_DAXeS"
      },
      "execution_count": null,
      "outputs": []
    },
    {
      "cell_type": "code",
      "source": [
        "import pandas as pd\n",
        "\n",
        "# Carregar o CSV com o nome correto\n",
        "df_ab = pd.read_csv('/content/drive/MyDrive/testes_de_hipoteses/experimento_teste_ab.csv')\n"
      ],
      "metadata": {
        "id": "xIzi8jFaAmSQ"
      },
      "execution_count": null,
      "outputs": []
    },
    {
      "cell_type": "markdown",
      "source": [
        "1. Maior taxa de conversão\n",
        "Para calcular a taxa de conversão de cada cenário, você precisa verificar o número de conversões em relação ao total de usuários testados em cada um.\n",
        "\n",
        "Passos:\n",
        "\n",
        "Carregar o CSV experimento_test_ab.csv.\n",
        "Agrupar os dados por cenário (A e B).\n",
        "Calcular a taxa de conversão para cada cenário.\n",
        "Comparar as taxas para encontrar a maior.\n"
      ],
      "metadata": {
        "id": "k4_KIYOo7ze-"
      }
    },
    {
      "cell_type": "code",
      "source": [
        "# Exibir as primeiras linhas do DataFrame e os nomes das colunas\n",
        "print(df_ab.head())\n",
        "print(df_ab.columns)\n"
      ],
      "metadata": {
        "id": "QMXdDpsdAxuI"
      },
      "execution_count": null,
      "outputs": []
    },
    {
      "cell_type": "code",
      "source": [
        "# Agrupar por versão da página e calcular a taxa de conversão\n",
        "df_ab_grouped = df_ab.groupby('Versão_Página')['Conversões'].mean()\n",
        "\n",
        "# Verificar qual versão tem a maior taxa de conversão\n",
        "maior_taxa_conversao = df_ab_grouped.idxmax()\n",
        "print(f'A versão com a maior taxa de conversão é: {maior_taxa_conversao}')\n"
      ],
      "metadata": {
        "id": "DiI0rD_-71V0"
      },
      "execution_count": null,
      "outputs": []
    },
    {
      "cell_type": "markdown",
      "source": [
        "2. Tamanho da amostra necessária\n",
        "Para calcular o tamanho da amostra, podemos utilizar a fórmula para teste A/B com base nos critérios fornecidos (95% de confiança, 80% de poder estatístico e um aumento de 10% na conversão).\n",
        "\n",
        "A fórmula básica para o cálculo de tamanho de amostra é:"
      ],
      "metadata": {
        "id": "CmoLc9xo8r5m"
      }
    },
    {
      "cell_type": "code",
      "source": [
        "from IPython.display import Image, display\n",
        "\n",
        "# Substitua 'sua_imagem.png' pelo nome da sua imagem\n",
        "display(Image(filename='/content/drive/MyDrive/testes_de_hipoteses/Fórmula do Tamanho da Amostra para Proporções em Testes A-B.png'))\n",
        "\n"
      ],
      "metadata": {
        "id": "KzDtN0iVBZt7"
      },
      "execution_count": null,
      "outputs": []
    },
    {
      "cell_type": "markdown",
      "source": [],
      "metadata": {
        "id": "92sWJUihDNUu"
      }
    },
    {
      "cell_type": "code",
      "source": [
        "import numpy as np\n",
        "from statsmodels.stats.power import TTestIndPower\n",
        "\n",
        "# Parâmetros\n",
        "alpha = 0.05  # nível de significância\n",
        "power = 0.80  # poder do teste\n",
        "p1 = 0.10     # taxa de conversão atual (cenário A)\n",
        "p2 = p1 + 0.10  # taxa de conversão esperada (aumento de 10%)\n",
        "\n",
        "# Cálculo do tamanho da amostra\n",
        "effect_size = p2 - p1\n",
        "analysis = TTestIndPower()\n",
        "sample_size = analysis.solve_power(effect_size=effect_size, alpha=alpha, power=power)\n",
        "\n",
        "print(f\"Tamanho da amostra necessário: {int(np.ceil(sample_size))}\")  # arredondar para cima\n",
        "\n"
      ],
      "metadata": {
        "id": "kH2aIrL59jLV"
      },
      "execution_count": null,
      "outputs": []
    },
    {
      "cell_type": "markdown",
      "source": [
        "3. A idade média das pessoas com problemas cardíacos é maior que 50 anos?\n",
        "Aqui, precisamos calcular a média da idade para a amostra e, em seguida, aplicar um teste t para verificar se a média é maior que 50.\n",
        "\n"
      ],
      "metadata": {
        "id": "YuZ9SHGdEeHc"
      }
    },
    {
      "cell_type": "code",
      "source": [
        "import pandas as pd\n",
        "from scipy import stats\n",
        "\n",
        "# Carregar a base pacientes.csv\n",
        "df_pacientes = pd.read_csv('/content/drive/MyDrive/testes_de_hipoteses/pacientes.csv')\n",
        "\n",
        "# Verificar os nomes das colunas\n",
        "print(df_pacientes.columns)\n",
        "\n",
        "# Índices da amostra\n",
        "indices = [909, 751, 402, 400, 726, 39, 184, 269, 255, 769,\n",
        "           209, 715, 677, 381, 793, 697, 89, 280, 232, 756,\n",
        "           358, 36, 439, 768, 967, 699, 473, 222, 89, 639,\n",
        "           883, 558, 757, 84, 907, 895, 217, 224, 311, 348,\n",
        "           146, 505, 273, 957, 362]\n",
        "\n",
        "# Amostra de idades (ajustar o nome da coluna para 'Idade')\n",
        "amostra = df_pacientes.loc[indices, 'Idade']  # Use 'Idade' com letra maiúscula\n",
        "\n",
        "# Hipótese nula: idade média = 50 anos\n",
        "t_stat, p_value = stats.ttest_1samp(amostra, 50)\n",
        "\n",
        "# Resultado do teste\n",
        "print(f\"t-stat: {t_stat:.4f}, p-value: {p_value:.4f}\")\n",
        "\n",
        "if p_value < 0.05:\n",
        "    print(\"Rejeitamos a hipótese nula. A idade média é maior que 50 anos.\")\n",
        "else:\n",
        "    print(\"Não podemos rejeitar a hipótese nula. A idade média não é significativamente maior que 50 anos.\")\n",
        "\n",
        "\n",
        "\n"
      ],
      "metadata": {
        "id": "J7jZUH71Ee-o"
      },
      "execution_count": null,
      "outputs": []
    },
    {
      "cell_type": "markdown",
      "source": [
        "4. Queremos entender que tipo de amostra estamos lidando se dividirmos os conjuntos em 2, sendo um com pessoas que têm condições de saúde adicionais e o outro com pessoas saudáveis. Seria dependente ou independente?"
      ],
      "metadata": {
        "id": "GUFXnwezGQOT"
      }
    },
    {
      "cell_type": "markdown",
      "source": [
        "5. Pressão arterial média entre grupos com e sem condições de saúde adicionais\n",
        "Para comparar as pressões arteriais entre esses grupos, aplicaremos um teste t para amostras independentes."
      ],
      "metadata": {
        "id": "vpig1QsOHPO-"
      }
    },
    {
      "cell_type": "code",
      "source": [
        "print(df_pacientes.columns)\n"
      ],
      "metadata": {
        "id": "ZCwY_PGpHgy4"
      },
      "execution_count": null,
      "outputs": []
    },
    {
      "cell_type": "code",
      "source": [
        "import os\n",
        "\n",
        "# Listar arquivos no diretório\n",
        "path = '/content/drive/MyDrive/'  # Altere conforme necessário\n",
        "files = os.listdir(path)\n",
        "print(files)\n"
      ],
      "metadata": {
        "id": "8gEcK5_7IBlm"
      },
      "execution_count": null,
      "outputs": []
    },
    {
      "cell_type": "code",
      "source": [
        "import pandas as pd\n",
        "\n",
        "# Carregar a base de dados\n",
        "df_pacientes = pd.read_csv('/content/drive/MyDrive/testes_de_hipoteses/pacientes.csv')\n",
        "\n",
        "# Verificar os nomes das colunas\n",
        "print(df_pacientes.columns)\n",
        "\n",
        "# Filtrar grupos\n",
        "df_saudaveis = df_pacientes[df_pacientes['Estado_Saude'] == 'Saudável']\n",
        "df_com_condicoes = df_pacientes[df_pacientes['Estado_Saude'] != 'Saudável']  # Alterar conforme necessário\n",
        "\n",
        "# Número de pacientes em cada grupo\n",
        "print(\"Número de pacientes saudáveis:\", len(df_saudaveis))\n",
        "print(\"Número de pacientes com condições de saúde adicionais:\", len(df_com_condicoes))\n",
        "\n"
      ],
      "metadata": {
        "id": "tZxyLcZlGUlo"
      },
      "execution_count": null,
      "outputs": []
    },
    {
      "cell_type": "code",
      "source": [
        "import pandas as pd\n",
        "\n",
        "# Carregar a base de dados\n",
        "df_pacientes = pd.read_csv('/content/drive/MyDrive/testes_de_hipoteses/pacientes.csv')\n",
        "\n",
        "# Verificar os nomes das colunas\n",
        "print(df_pacientes.columns)\n",
        "\n",
        "# Contar o número de pacientes saudáveis e com condições de saúde adicionais\n",
        "num_saudaveis = df_pacientes[df_pacientes['Estado_Saude'] == 'Saudável'].shape[0]\n",
        "num_condicoes_adicionais = df_pacientes[df_pacientes['Estado_Saude'] != 'Saudável'].shape[0]\n",
        "\n",
        "print(f\"Número de pacientes saudáveis: {num_saudaveis}\")\n",
        "print(f\"Número de pacientes com condições de saúde adicionais: {num_condicoes_adicionais}\")\n",
        "\n",
        "# Análise estatística (se necessário)\n",
        "# Exemplo: Média e desvio padrão das idades para ambos os grupos\n",
        "media_idade_saudaveis = df_pacientes[df_pacientes['Estado_Saude'] == 'Saudável']['Idade'].mean()\n",
        "media_idade_condicoes = df_pacientes[df_pacientes['Estado_Saude'] != 'Saudável']['Idade'].mean()\n",
        "\n",
        "desvio_idade_saudaveis = df_pacientes[df_pacientes['Estado_Saude'] == 'Saudável']['Idade'].std()\n",
        "desvio_idade_condicoes = df_pacientes[df_pacientes['Estado_Saude'] != 'Saudável']['Idade'].std()\n",
        "\n",
        "print(f\"Média da idade dos pacientes saudáveis: {media_idade_saudaveis}, Desvio padrão: {desvio_idade_saudaveis}\")\n",
        "print(f\"Média da idade dos pacientes com condições de saúde adicionais: {media_idade_condicoes}, Desvio padrão: {desvio_idade_condicoes}\")\n"
      ],
      "metadata": {
        "id": "_8lbNtgyI-ge"
      },
      "execution_count": null,
      "outputs": []
    },
    {
      "cell_type": "code",
      "source": [
        "import pandas as pd\n",
        "\n",
        "# Montar o Google Drive (se ainda não tiver feito)\n",
        "from google.colab import drive\n",
        "drive.mount('/content/drive')\n",
        "\n",
        "# Carregar a base de dados com o caminho correto\n",
        "df_pacientes = pd.read_csv('/content/drive/MyDrive/testes_de_hipoteses/pacientes.csv')\n",
        "\n",
        "# Visualizar as primeiras linhas do DataFrame\n",
        "print(df_pacientes.head())\n",
        "\n",
        "# Verificar os valores únicos na coluna Estado_Saude\n",
        "print(df_pacientes['Estado_Saude'].unique())\n",
        "\n",
        "# Contar o número de pacientes por estado de saúde\n",
        "print(df_pacientes['Estado_Saude'].value_counts())\n"
      ],
      "metadata": {
        "id": "_Bxa7_DlL1-d"
      },
      "execution_count": null,
      "outputs": []
    },
    {
      "cell_type": "code",
      "source": [
        "# Calcular média e desvio padrão da idade dos pacientes saudáveis\n",
        "media_idade_saudaveis = df_pacientes[df_pacientes['Estado_Saude'] == 0]['Idade'].mean()\n",
        "desvio_padrao_saudaveis = df_pacientes[df_pacientes['Estado_Saude'] == 0]['Idade'].std()\n",
        "\n",
        "# Calcular média e desvio padrão da idade dos pacientes com condições de saúde adicionais\n",
        "media_idade_com_condicoes = df_pacientes[df_pacientes['Estado_Saude'] == 1]['Idade'].mean()\n",
        "desvio_padrao_com_condicoes = df_pacientes[df_pacientes['Estado_Saude'] == 1]['Idade'].std()\n",
        "\n",
        "# Exibir resultados\n",
        "print(f\"Média da idade dos pacientes saudáveis: {media_idade_saudaveis:.2f}, Desvio padrão: {desvio_padrao_saudaveis:.2f}\")\n",
        "print(f\"Média da idade dos pacientes com condições de saúde adicionais: {media_idade_com_condicoes:.2f}, Desvio padrão: {desvio_padrao_com_condicoes:.2f}\")\n"
      ],
      "metadata": {
        "id": "oB3qO_QkMNeq"
      },
      "execution_count": null,
      "outputs": []
    },
    {
      "cell_type": "code",
      "source": [
        "import pandas as pd\n",
        "from scipy import stats\n",
        "\n",
        "# Supondo que df_pacientes já está carregado\n",
        "indices = [690, 894, 67, 201, 364, 19, 60, 319, 588, 643, 855, 623, 530, 174, 105, 693, 6, 462, 973, 607, 811, 346, 354, 966, 943, 372]\n",
        "\n",
        "# Filtrar os dados pelos índices\n",
        "dados_filtrados = df_pacientes.loc[indices]\n",
        "\n",
        "# Separar os grupos\n",
        "grupo_adicional = dados_filtrados[dados_filtrados['Estado_Saude'] == 1]['Pressao_Arterial']\n",
        "grupo_saudavel = dados_filtrados[dados_filtrados['Estado_Saude'] == 0]['Pressao_Arterial']\n",
        "\n",
        "# Teste t para duas amostras\n",
        "t_stat, p_value = stats.ttest_ind(grupo_adicional, grupo_saudavel, equal_var=False)  # equal_var=False se as variâncias forem diferentes\n",
        "\n",
        "# Nível de significância\n",
        "alpha = 0.06\n",
        "\n",
        "# Verificar se rejeitamos a hipótese nula\n",
        "if p_value < alpha:\n",
        "    resultado = \"Rejeitamos a hipótese nula. As médias são diferentes.\"\n",
        "else:\n",
        "    resultado = \"Não rejeitamos a hipótese nula. Não há evidência suficiente para afirmar que as médias são diferentes.\"\n",
        "\n",
        "# Resultados\n",
        "t_stat, p_value, resultado\n"
      ],
      "metadata": {
        "id": "UUC6gPRzM0Z0"
      },
      "execution_count": null,
      "outputs": []
    },
    {
      "cell_type": "markdown",
      "source": [
        "Com base nos resultados do seu teste de hipótese:\n",
        "\n",
        "Estatística t: 0.083\n",
        "Valor-p: 0.935\n",
        "Resultado: \"Não rejeitamos a hipótese nula. Não há evidência suficiente para afirmar que as médias são diferentes.\"\n",
        "Interpretação\n",
        "Isso significa que, com um nível de significância de 6%, não temos evidências suficientes para afirmar que a pressão arterial média dos pacientes com condições de saúde adicionais é diferente da pressão arterial média dos pacientes saudáveis. Portanto, podemos concluir que as médias são, de fato, semelhantes.\n",
        "\n"
      ],
      "metadata": {
        "id": "qIHg4Xlegbf4"
      }
    },
    {
      "cell_type": "markdown",
      "source": [
        "6. Existe uma diferença significativa na pressão arterial média entre diferentes grupos étnicos nesta população? (Teste ANOVA, alpha é 5%)\n",
        "\n",
        "\n",
        "        a. Hipótese Nula (H0): A pressão arterial média é a mesma em todos os grupos étnicos.\n",
        "\n",
        "Resposta: Não, não existe diferença significativa na pressão arterial média entre os diferentes grupos étnicos.\n",
        "\n",
        "Justificativa:Valor de p: O valor de p (PR(>F)) é 0.8738. Esse valor é muito maior que o nível de significância convencional de 0.05.\n",
        "Conclusão: Como o valor de p é maior que 0.05, não rejeitamos a hipótese nula. Isso significa que não há evidência estatística suficiente para concluir que existe uma diferença significativa na pressão arterial média entre os diferentes grupos étnicos. Em outras palavras, as médias das pressões arteriais dos diferentes grupos étnicos são estatisticamente iguais.\n",
        "\n",
        "\n",
        "        b. Existe uma associação entre a idade dos pacientes e sua pressão arterial?\n",
        "\n",
        "            i. Hipótese Nula (H0): A idade dos pacientes é independente da pressão arterial.\n",
        "\n",
        "            ii. Hipótese Alternativa (H1): A idade dos pacientes está associada à sua pressão arterial.\n",
        "\n",
        "            Resposta: Com base na análise da correlação de Pearson, não encontramos evidências estatísticas significativas para afirmar que existe uma associação entre a idade dos pacientes e sua pressão arterial. Os resultados sugerem que a idade não é um fator determinante para a variação da pressão arterial nesse grupo de indivíduos.\n",
        "\n",
        "        c. pótese Alternativa (H1): Há uma diferença significativa na pressão arterial média entre pelo menos dois grupos étnicos nesta população.\n",
        "\n",
        "        Resposta: Para responder à pergunta c, precisamos realizar uma Análise de Variância (ANOVA) para comparar as médias da pressão arterial entre os diferentes grupos étnicos.\n",
        "\n",
        "        Resposta2: Com base na análise de variância (ANOVA) realizada, não encontramos evidências estatísticas significativas para rejeitar a hipótese nula. O valor de p obtido foi de 0.8738, indicando que não há diferença significativa na pressão arterial média entre os diferentes grupos étnicos presentes neste conjunto de dados. Portanto, podemos concluir que a etnia não é um fator determinante para a variação da pressão arterial nesta amostra.\n",
        "\n"
      ],
      "metadata": {
        "id": "5Sr0C9v1jm5x"
      }
    },
    {
      "cell_type": "code",
      "source": [
        "import pandas as pd\n",
        "import scipy.stats as stats\n",
        "from statsmodels.formula.api import ols\n",
        "import statsmodels.api as sm\n",
        "\n",
        "# Carregar a base de dados (substitua o caminho pelo correto)\n",
        "df_pacientes = pd.read_csv('/content/drive/MyDrive/testes_de_hipoteses/pacientes.csv')\n",
        "\n",
        "# 6a. Teste ANOVA - Diferença na pressão arterial entre grupos étnicos\n",
        "\n",
        "# Realizar a ANOVA\n",
        "modelo = ols('Pressao_Arterial ~ C(Etnia)', data=df_pacientes).fit()\n",
        "anova_resultado = sm.stats.anova_lm(modelo, typ=2)\n",
        "\n",
        "# Exibir os resultados\n",
        "print(\"Resultado ANOVA:\")\n",
        "print(anova_resultado)\n",
        "\n",
        "# 6b. Teste de correlação - Associação entre idade e pressão arterial\n",
        "\n",
        "# Calcular a correlação de Pearson\n",
        "correlacao, p_valor = stats.pearsonr(df_pacientes['Idade'], df_pacientes['Pressao_Arterial'])\n",
        "\n",
        "# Exibir os resultados\n",
        "print(f\"\\nCoeficiente de correlação de Pearson: {correlacao}\")\n",
        "print(f\"Valor p: {p_valor}\")\n"
      ],
      "metadata": {
        "id": "qLaO_ejQk7Fe"
      },
      "execution_count": null,
      "outputs": []
    },
    {
      "cell_type": "markdown",
      "source": [
        "Explicação:\n",
        "ANOVA: O teste ANOVA é realizado para verificar se há uma diferença significativa na pressão arterial média entre os grupos étnicos. Utilizamos o ols para criar um modelo linear e o anova_lm para calcular a estatística F e o valor p.\n",
        "Correlação de Pearson: Verifica se existe uma associação entre a idade e a pressão arterial dos pacientes. O coeficiente de correlação (correlacao) indica a força da relação, e o valor p (p_valor) indica se essa correlação é estatisticamente significativa.\n",
        "Ao rodar este código, você obterá os resultados da ANOVA e da correlação, podendo concluir se há ou não diferenças significativas e associações na população analisada.\n",
        "\n",
        "\n",
        "\n",
        "\n",
        "\n",
        "\n",
        "\n"
      ],
      "metadata": {
        "id": "naiNhoWslPEo"
      }
    },
    {
      "cell_type": "markdown",
      "source": [
        "6a. Teste ANOVA:\n",
        "Valor p (PR(>F)): 0.8738. Esse valor está bem acima do nível de significância de 5% (0.05), o que significa que não rejeitamos a hipótese nula. Não há evidência suficiente para afirmar que há uma diferença significativa na pressão arterial média entre os diferentes grupos étnicos.\n",
        "6b. Teste de Correlação de Pearson:\n",
        "Coeficiente de correlação: -0.021 indica uma correlação muito fraca e negativa entre a idade e a pressão arterial.\n",
        "Valor p: 0.4993, que também está acima do nível de significância de 5%, o que significa que não rejeitamos a hipótese nula. Não há evidência estatística de uma associação significativa entre a idade dos pacientes e sua pressão arterial.\n",
        "Conclusão:\n",
        "Pressão arterial média entre diferentes grupos étnicos: Não há diferença significativa.\n",
        "Associação entre idade e pressão arterial: Não há associação significativa.\n",
        "Ambos os testes indicam que as variáveis analisadas não possuem relação estatisticamente significativa com a pressão arterial."
      ],
      "metadata": {
        "id": "7lZRdeI5l5mR"
      }
    },
    {
      "cell_type": "code",
      "source": [
        "import pandas as pd\n",
        "import matplotlib.pyplot as plt\n",
        "import seaborn as sns\n",
        "\n",
        "# ... (seu código anterior)\n",
        "\n",
        "# Boxplot para comparar a pressão arterial entre grupos étnicos\n",
        "sns.boxplot(x='Etnia', y='Pressao_Arterial', data=df_pacientes)\n",
        "plt.title('Comparação da Pressão Arterial por Etnia')\n",
        "plt.show()"
      ],
      "metadata": {
        "id": "wm0VkpFsl8xw"
      },
      "execution_count": null,
      "outputs": []
    },
    {
      "cell_type": "code",
      "source": [
        "import statsmodels.api as sm\n",
        "from statsmodels.formula.api import ols\n",
        "\n",
        "# Modelo ANOVA\n",
        "modelo = ols('Pressao_Arterial ~ C(Etnia)', data=df_pacientes).fit()\n",
        "anova_resultado = sm.stats.anova_lm(modelo, typ=2)\n",
        "print(anova_resultado)"
      ],
      "metadata": {
        "id": "GpICqygMn5V2"
      },
      "execution_count": null,
      "outputs": []
    },
    {
      "cell_type": "markdown",
      "source": [
        "Tabela de Resultados da Correlação de Pearson"
      ],
      "metadata": {
        "id": "25YhoUuzqea5"
      }
    },
    {
      "cell_type": "code",
      "source": [
        "import pandas as pd\n",
        "import matplotlib.pyplot as plt\n",
        "import seaborn as sns\n",
        "import statsmodels.api as sm\n",
        "from statsmodels.formula.api import ols\n",
        "\n",
        "# ... (seu código anterior)\n",
        "\n",
        "# Correlação de Pearson\n",
        "correlacao, p_valor = stats.pearsonr(df_pacientes['Idade'], df_pacientes['Pressao_Arterial'])\n",
        "print(f\"Coeficiente de correlação de Pearson: {correlacao}\")\n",
        "print(f\"Valor p: {p_valor}\")"
      ],
      "metadata": {
        "id": "rNms8Me-qKVl"
      },
      "execution_count": null,
      "outputs": []
    },
    {
      "cell_type": "markdown",
      "source": [
        "6c"
      ],
      "metadata": {
        "id": "zt2DYu6fsVUu"
      }
    },
    {
      "cell_type": "code",
      "source": [
        "import pandas as pd\n",
        "import numpy as np\n",
        "from scipy import stats\n",
        "import statsmodels.api as sm\n",
        "from statsmodels.formula.api import ols\n",
        "\n",
        "# Assumindo que seus dados estão em um arquivo CSV chamado \"dados.csv\"\n",
        "dados = pd.read_csv('/content/drive/MyDrive/testes_de_hipoteses/pacientes.csv')\n",
        "\n",
        "print(dados.head())\n",
        "print(dados.describe())\n",
        "\n",
        "# Modelo de regressão linear para ANOVA\n",
        "modelo = ols('Pressao_Arterial ~ C(Etnia)', data=dados).fit()\n",
        "\n",
        "# Tabela ANOVA\n",
        "anova_table = sm.stats.anova_lm(modelo, typ=2)\n",
        "print(anova_table)"
      ],
      "metadata": {
        "id": "k0M2xSm2sZge"
      },
      "execution_count": null,
      "outputs": []
    },
    {
      "cell_type": "markdown",
      "source": [
        "Explicação:\n",
        "Interpretação dos Resultados:\n",
        "Valor de F: 0.232453\n",
        "Valor de p: 0.8738\n",
        "Conclusão:\n",
        "\n",
        "Não rejeitamos a hipótese nula (H0). O valor de p é muito maior que o nível de significância convencional de 0.05.\n",
        "Não há evidências estatísticas suficientes para concluir que existe uma diferença significativa na pressão arterial média entre os diferentes grupos étnicos."
      ],
      "metadata": {
        "id": "YFFhGsSztB7K"
      }
    },
    {
      "cell_type": "markdown",
      "source": [
        "7. Lúcia é uma pesquisadora e tem o objetivo de entender a relação de gênero neste grupo de pacientes. Acredita-se que há uma relação entre o sexo e condições de saúde adicionais. (Teste qui-quadrado)"
      ],
      "metadata": {
        "id": "reDapA0Tt0UW"
      }
    },
    {
      "cell_type": "code",
      "source": [
        "import pandas as pd\n",
        "from scipy.stats import chi2_contingency\n",
        "\n",
        "# Carregar os dados\n",
        "dados = pd.read_csv('/content/drive/MyDrive/testes_de_hipoteses/pacientes.csv')\n",
        "\n",
        "# Criar a tabela de contingência (exemplo: gênero x estado de saúde)\n",
        "tabela_contingencia = pd.crosstab(dados['Genero'], dados['Estado_Saude'])\n",
        "\n",
        "# Realizar o teste qui-quadrado\n",
        "chi2, p, dof, expected = chi2_contingency(tabela_contingencia)\n",
        "\n",
        "# Imprimir os resultados\n",
        "print('Tabela de contingência:')\n",
        "print(tabela_contingencia)\n",
        "print('\\nQui-quadrado:', chi2)\n",
        "print('p-valor:', p)\n",
        "\n",
        "# Interpretar os resultados\n",
        "if p < 0.05:\n",
        "    print(\"Há evidência estatística de associação entre o gênero e o estado de saúde.\")\n",
        "else:\n",
        "    print(\"Não há evidência estatística de associação entre o gênero e o estado de saúde.\")"
      ],
      "metadata": {
        "id": "TWNT_rz-t8P-"
      },
      "execution_count": null,
      "outputs": []
    },
    {
      "cell_type": "markdown",
      "source": [
        "8. Qual é o intervalo de confiança para a média da pressão arterial entre os pacientes com condições de saúde adicionais? (nível de confiança 95%)\n",
        "\n",
        "Resposta:\n",
        "Com base no intervalo de confiança calculado, podemos afirmar com 95% de confiança que a média da pressão arterial entre os pacientes com condições de saúde adicionais está entre 149.22 mmHg e 151.02 mmHg."
      ],
      "metadata": {
        "id": "hps_njb6vCAg"
      }
    },
    {
      "cell_type": "markdown",
      "source": [
        "IC = média ± (z * (desvio padrão / √n))"
      ],
      "metadata": {
        "id": "aUDymu31vWEi"
      }
    },
    {
      "cell_type": "markdown",
      "source": [
        "IC: Intervalo de confiança\n",
        "média: Média da amostra\n",
        "z: Valor crítico do z-score associado ao nível de confiança (para 95%, z ≈ 1.96)\n",
        "desvio padrão: Desvio padrão da amostra\n",
        "n: Tamanho da amostra"
      ],
      "metadata": {
        "id": "y5h4eMIlvcJr"
      }
    },
    {
      "cell_type": "code",
      "source": [
        "import pandas as pd\n",
        "import numpy as np\n",
        "\n",
        "# Carregar os dados (substitua 'seu_arquivo.csv' pelo nome do seu arquivo)\n",
        "df = pd.read_csv('/content/drive/MyDrive/testes_de_hipoteses/pacientes.csv')\n",
        "\n",
        "# Filtrar os dados para pacientes com condições de saúde adicionais\n",
        "df_com_condicoes = df[df['Estado_Saude'] == 1]\n",
        "\n",
        "# Calcular a média e o desvio padrão da pressão arterial\n",
        "media = df_com_condicoes['Pressao_Arterial'].mean()\n",
        "desvio_padrao = df_com_condicoes['Pressao_Arterial'].std()\n",
        "n = len(df_com_condicoes)\n",
        "\n",
        "# Calcular o intervalo de confiança (95%)\n",
        "z = 1.96\n",
        "margem_de_erro = z * (desvio_padrao / np.sqrt(n))\n",
        "intervalo_confianca = (media - margem_de_erro, media + margem_de_erro)\n",
        "\n",
        "print(intervalo_confianca)"
      ],
      "metadata": {
        "id": "QC5_47zjvEGn"
      },
      "execution_count": null,
      "outputs": []
    },
    {
      "cell_type": "markdown",
      "source": [
        "    9. A distribuição da pressão arterial na população segue uma distribuição normal?\n",
        "        a. Hipótese Nula (H0): A distribuição da pressão arterial na população segue uma distribuição normal.\n",
        "        b. Hipótese Alternativa (H1): A distribuição da pressão arterial na população não segue uma distribuição normal."
      ],
      "metadata": {
        "id": "OHQefvyKyjJQ"
      }
    },
    {
      "cell_type": "code",
      "source": [
        "import pandas as pd\n",
        "from scipy.stats import shapiro\n",
        "\n",
        "# Carregar os dados (substitua 'seu_arquivo.csv' pelo caminho correto)\n",
        "dados = pd.read_csv('/content/drive/MyDrive/testes_de_hipoteses/pacientes.csv')\n",
        "\n",
        "# Assumir que a coluna com os dados da pressão arterial se chama 'Pressao_Arterial'\n",
        "pressao_arterial = dados['Pressao_Arterial']\n",
        "\n",
        "# Realizar o teste de Shapiro-Wilk\n",
        "stat, p = shapiro(pressao_arterial)\n",
        "\n",
        "# Imprimir os resultados\n",
        "print('Estatística de teste:', stat)\n",
        "print('p-valor:', p)\n",
        "\n",
        "# Interpretar o resultado:\n",
        "alpha = 0.05\n",
        "if p > alpha:\n",
        "    print('A distribuição é provavelmente normal.')\n",
        "else:\n",
        "    print('A distribuição não é provavelmente normal.')"
      ],
      "metadata": {
        "id": "4eqeFRYbymbQ"
      },
      "execution_count": null,
      "outputs": []
    },
    {
      "cell_type": "code",
      "source": [
        "import pandas as pd\n",
        "from scipy.stats import shapiro\n",
        "\n",
        "# Carregar os dados (substitua 'seu_arquivo.csv' pelo caminho correto)\n",
        "dados = pd.read_csv('/content/drive/MyDrive/testes_de_hipoteses/pacientes.csv')\n",
        "\n",
        "# Assumir que a coluna com os dados da pressão arterial se chama 'Pressao_Arterial'\n",
        "pressao_arterial = dados['Pressao_Arterial']\n",
        "\n",
        "# Realizar o teste de Shapiro-Wilk\n",
        "stat, p = shapiro(pressao_arterial)\n",
        "\n",
        "# Imprimir os resultados\n",
        "print('Estatística de teste:', stat)\n",
        "print('p-valor:', p)\n",
        "\n",
        "# Interpretar o resultado:\n",
        "alpha = 0.05\n",
        "if p > alpha:\n",
        "    print('A distribuição é provavelmente normal.')\n",
        "else:\n",
        "    print('A distribuição não é provavelmente normal.')\n",
        "\n",
        "# Visualização da distribuição (opcional)\n",
        "import matplotlib.pyplot as plt\n",
        "plt.hist(pressao_arterial, bins=30)\n",
        "plt.title('Histograma da Pressão Arterial')\n",
        "plt.xlabel('Pressão Arterial')\n",
        "plt.ylabel('Frequência')\n",
        "plt.show()\n",
        "\n",
        "# QQ-plot (opcional)\n",
        "import statsmodels.api as sm\n",
        "sm.qqplot(pressao_arterial, line='s')\n",
        "plt.title('QQ-plot da Pressão Arterial')\n",
        "plt.show()"
      ],
      "metadata": {
        "id": "kTwJmoIgzRUf"
      },
      "execution_count": null,
      "outputs": []
    }
  ]
}