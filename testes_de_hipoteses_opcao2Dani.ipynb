{
  "nbformat": 4,
  "nbformat_minor": 0,
  "metadata": {
    "colab": {
      "private_outputs": true,
      "provenance": [],
      "authorship_tag": "ABX9TyNYAK+//8gElBAqw5dHiWr9",
      "include_colab_link": true
    },
    "kernelspec": {
      "name": "python3",
      "display_name": "Python 3"
    },
    "language_info": {
      "name": "python"
    }
  },
  "cells": [
    {
      "cell_type": "markdown",
      "metadata": {
        "id": "view-in-github",
        "colab_type": "text"
      },
      "source": [
        "<a href=\"https://colab.research.google.com/github/danisoaresl/testes_de_hipoteses/blob/exercise/testes_de_hipoteses_opcao2Dani.ipynb\" target=\"_parent\"><img src=\"https://colab.research.google.com/assets/colab-badge.svg\" alt=\"Open In Colab\"/></a>"
      ]
    },
    {
      "cell_type": "markdown",
      "source": [
        "questão 1"
      ],
      "metadata": {
        "id": "sQkuK0jbKR1b"
      }
    },
    {
      "cell_type": "code",
      "execution_count": null,
      "metadata": {
        "id": "-2fC14SdJQB6"
      },
      "outputs": [],
      "source": [
        "from google.colab import drive\n",
        "\n",
        "# Montar o Google Drive\n",
        "drive.mount('/content/drive')\n",
        "\n",
        "import pandas as pd\n",
        "import numpy as np\n",
        "import matplotlib.pyplot as plt\n",
        "from scipy import stats\n",
        "\n",
        "# Carregar o CSV com o nome correto\n",
        "df_ab = pd.read_csv('/content/drive/MyDrive/testes_de_hipoteses/experimento_teste_ab.csv')\n",
        "\n",
        "# Verificar se o DataFrame foi carregado corretamente\n",
        "print(df_ab.head())  # Exibe as primeiras linhas\n",
        "print(df_ab.info())  # Exibe informações sobre as colunas\n",
        "\n",
        "# Agrupar por versão da página e calcular a média de conversões\n",
        "conversao_por_versao = df_ab.groupby('Versão_Página')['Conversões'].mean()\n",
        "\n",
        "# Exibir as taxas de conversão por versão\n",
        "print(conversao_por_versao)\n",
        "\n",
        "# Encontrar a versão com a maior taxa de conversão\n",
        "melhor_versao = conversao_por_versao.idxmax()\n",
        "\n",
        "print(f\"\\nA versão da página com a maior taxa de conversão é: {melhor_versao}\\n\")\n",
        "\n",
        "# Plotar as taxas de conversão por versão\n",
        "conversao_por_versao.plot(kind='bar')\n",
        "\n",
        "plt.title('Taxa de Conversão por Versão da Página')\n",
        "plt.xlabel('Versão da Página')\n",
        "plt.ylabel('Taxa de Conversão')\n",
        "\n",
        "plt.show()"
      ]
    },
    {
      "cell_type": "markdown",
      "source": [
        "questao 2"
      ],
      "metadata": {
        "id": "OeixQQwVKH3Q"
      }
    },
    {
      "cell_type": "code",
      "source": [
        "from statsmodels.stats.power import NormalIndPower\n",
        "from statsmodels.stats.proportion import proportion_effectsize\n",
        "\n",
        "def calcular_tamanho_amostra(taxa_conversao_a, taxa_conversao_b, alpha=0.05, power=0.8):\n",
        "    \"\"\"Calcula o tamanho da amostra necessário para um teste A/B.\n",
        "\n",
        "    Args:\n",
        "        taxa_conversao_a: Taxa de conversão da versão A.\n",
        "        taxa_conversao_b: Taxa de conversão esperada para a versão B.\n",
        "        alpha: Nível de significância (default: 0.05).\n",
        "        power: Poder estatístico (default: 0.8).\n",
        "\n",
        "    Returns:\n",
        "        Tamanho da amostra necessário por grupo.\n",
        "    \"\"\"\n",
        "\n",
        "    # Calcula o tamanho do efeito\n",
        "    efeito = proportion_effectsize(taxa_conversao_a, taxa_conversao_b)\n",
        "\n",
        "    # Calcula o tamanho da amostra\n",
        "    analisador = NormalIndPower()\n",
        "    tamanho_amostra = analisador.solve_power(efeito, power=power, alpha=alpha, ratio=1)\n",
        "\n",
        "    return int(np.ceil(tamanho_amostra))\n",
        "\n",
        "# Exemplo de uso\n",
        "taxa_conversao_a = 0.105\n",
        "taxa_conversao_b = 0.1155\n",
        "tamanho_amostra = calcular_tamanho_amostra(taxa_conversao_a, taxa_conversao_b)\n",
        "print(f\"Tamanho da amostra necessário por grupo: {tamanho_amostra}\")"
      ],
      "metadata": {
        "id": "GvrM67F_KIdQ"
      },
      "execution_count": null,
      "outputs": []
    },
    {
      "cell_type": "markdown",
      "source": [
        "questao3"
      ],
      "metadata": {
        "id": "kkvTr6mUK0LH"
      }
    },
    {
      "cell_type": "code",
      "source": [
        "print(df.columns)"
      ],
      "metadata": {
        "id": "mXOqsuveL1ha"
      },
      "execution_count": null,
      "outputs": []
    },
    {
      "cell_type": "code",
      "source": [
        "import pandas as pd\n",
        "import matplotlib.pyplot as plt\n",
        "\n",
        "# Supondo que seu DataFrame esteja armazenado na variável df\n",
        "\n",
        "# Estatísticas descritivas\n",
        "print(df.describe())\n",
        "\n",
        "# Histograma da idade\n",
        "plt.hist(df['Idade'], bins=20)\n",
        "plt.xlabel('Idade')\n",
        "plt.ylabel('Frequência')\n",
        "plt.title('Distribuição de Idades')\n",
        "plt.show()\n",
        "\n",
        "# Boxplot da pressão arterial por gênero\n",
        "df.boxplot(column='Pressao_Arterial', by='Genero')\n",
        "plt.ylabel('Pressão Arterial')\n",
        "plt.title('Comparação da Pressão Arterial por Gênero')\n",
        "plt.show()"
      ],
      "metadata": {
        "id": "EdlpWzleL7Io"
      },
      "execution_count": null,
      "outputs": []
    },
    {
      "cell_type": "code",
      "source": [
        "import pandas as pd\n",
        "import seaborn as sns\n",
        "import statsmodels.api as sm\n",
        "from statsmodels.formula.api import ols\n",
        "\n",
        "# Supondo que seu DataFrame esteja armazenado na variável df\n",
        "\n",
        "# Boxplot da pressão arterial por gênero\n",
        "sns.boxplot(x='Genero', y='Pressao_Arterial', data=df)\n",
        "\n",
        "# Modelo de regressão linear para analisar a relação entre idade e pressão arterial\n",
        "model = ols('Pressao_Arterial ~ Idade', data=df).fit()\n",
        "print(model.summary())"
      ],
      "metadata": {
        "id": "zY3KIGFvMLWv"
      },
      "execution_count": null,
      "outputs": []
    },
    {
      "cell_type": "code",
      "source": [
        "import pandas as pd\n",
        "from scipy import stats\n",
        "\n",
        "# Assumindo que o DataFrame está carregado em uma variável chamada 'df'\n",
        "# e que as colunas são 'indice', 'idade' e 'tem_problema_cardiaco'\n",
        "\n",
        "# Filtrar os dados para pessoas com problemas cardíacos\n",
        "amostra = df[df['tem_problema_cardiaco']]\n",
        "\n",
        "# Calcular a média das idades\n",
        "media_idade = amostra['idade'].mean()\n",
        "\n",
        "# Teste t (comparando com uma média populacional de 50)\n",
        "t_stat, p_value = stats.ttest_1samp(amostra['idade'], 50)\n",
        "\n",
        "# Verificar o p-value\n",
        "if p_value < 0.05:\n",
        "    print(\"A idade média das pessoas com problemas cardíacos é significativamente maior que 50 anos.\")\n",
        "else:\n",
        "    print(\"Não há evidência suficiente para afirmar que a idade média é maior que 50 anos.\")"
      ],
      "metadata": {
        "id": "OQjebsoEMdTK"
      },
      "execution_count": null,
      "outputs": []
    },
    {
      "cell_type": "code",
      "source": [
        "print(df.columns)\n",
        "\n",
        "print(df.head())  # Shows the first few rows\n",
        "print(df.info())   # Provides information about data types and non-null values\n",
        "\n",
        "# Assuming the actual column name is 'problema_cardiaco' (change it if needed)\n",
        "amostra = df[df['problema_cardiaco']]"
      ],
      "metadata": {
        "id": "lbp0bEhdMqwf"
      },
      "execution_count": null,
      "outputs": []
    },
    {
      "cell_type": "code",
      "source": [
        "# Filtrar os dados para pessoas com problemas cardíacos\n",
        "amostra = df[df['Estado_Saude'] == 1]\n",
        "\n",
        "# Calcular a média das idades\n",
        "media_idade = amostra['Idade'].mean()\n",
        "\n",
        "# Teste t (comparando com uma média populacional de 50)\n",
        "t_stat, p_value = stats.ttest_1samp(amostra['Idade'], 50)\n",
        "\n",
        "# Verificar o p-value\n",
        "if p_value < 0.05:\n",
        "    print(\"A idade média das pessoas com problemas cardíacos é significativamente maior que 50 anos.\")\n",
        "else:\n",
        "    print(\"Não há evidência suficiente para afirmar que a idade média é maior que 50 anos.\")"
      ],
      "metadata": {
        "id": "5joNY5TANATD"
      },
      "execution_count": null,
      "outputs": []
    },
    {
      "cell_type": "code",
      "source": [
        "print(\"Valor de t:\", t_stat)\n",
        "print(\"Valor de p:\", p_value)\n",
        "\n",
        "import pandas as pd\n",
        "from scipy import stats\n",
        "\n",
        "# ... (seu código para carregar os dados e realizar o teste t)\n",
        "\n",
        "# Imprimindo os resultados\n",
        "print(\"Valor de t:\", t_stat)\n",
        "print(\"Valor de p:\", p_value)\n",
        "\n",
        "# Interpretando os resultados (exemplo)\n",
        "if p_value < 0.05:\n",
        "    print(\"Rejeitamos a hipótese nula. Há evidência estatística de que...\")\n",
        "else:\n",
        "    print(\"Não rejeitamos a hipótese nula. Não há evidência estatística suficiente para afirmar que...\")"
      ],
      "metadata": {
        "id": "MWMMOXatNMyT"
      },
      "execution_count": null,
      "outputs": []
    },
    {
      "cell_type": "markdown",
      "source": [
        "questao 4"
      ],
      "metadata": {
        "id": "aXLntkRWNhUk"
      }
    },
    {
      "cell_type": "code",
      "source": [],
      "metadata": {
        "id": "7cnIsf1eNvni"
      },
      "execution_count": null,
      "outputs": []
    },
    {
      "cell_type": "markdown",
      "source": [
        "questao5"
      ],
      "metadata": {
        "id": "BFrz_tezNuaY"
      }
    },
    {
      "cell_type": "code",
      "source": [
        "import pandas as pd\n",
        "from scipy import stats\n",
        "\n",
        "# Assumindo que você já tem um DataFrame chamado 'df' com as colunas 'indice', 'Pressao_Arterial' e 'Estado_Saude'\n",
        "\n",
        "# Filtrar os dados\n",
        "grupo_com_condicoes = df[df['Estado_Saude'] == 1]  # Assumindo que 1 indica condição de saúde adicional\n",
        "grupo_saudavel = df[df['Estado_Saude'] == 0]\n",
        "\n",
        "# Calcular as médias\n",
        "media_com_condicoes = grupo_com_condicoes['Pressao_Arterial'].mean()\n",
        "media_saudavel = grupo_saudavel['Pressao_Arterial'].mean()\n",
        "\n",
        "# Realizar o teste t\n",
        "t_stat, p_value = stats.ttest_ind(grupo_com_condicoes['Pressao_Arterial'], grupo_saudavel['Pressao_Arterial'], equal_var=False)\n",
        "\n",
        "# Comparar o valor de p com o nível de significância\n",
        "if p_value < 0.06:\n",
        "    print(\"A pressão arterial média dos grupos é significativamente diferente.\")\n",
        "else:\n",
        "    print(\"Não há evidência suficiente para afirmar que a pressão arterial média é diferente entre os grupos.\")"
      ],
      "metadata": {
        "id": "xtrNDMD8Nip4"
      },
      "execution_count": null,
      "outputs": []
    },
    {
      "cell_type": "code",
      "source": [
        "import pandas as pd\n",
        "from scipy import stats\n",
        "\n",
        "# ... (your code to load data and perform t-test)\n",
        "\n",
        "# Create a DataFrame for results\n",
        "resultados = pd.DataFrame({\n",
        "    'Grupo': ['Saudáveis', 'Com Condições de Saúde Adicionais'],\n",
        "    'Número de Pacientes': [len(grupo_saudavel), len(grupo_com_condicoes)],\n",
        "    'Média da Pressão Arterial': [media_saudavel, media_com_condicoes]\n",
        "})\n",
        "\n",
        "# Add a new row with test t results\n",
        "new_row = pd.DataFrame({'Grupo': ['Teste T'], 't-statistic': [t_stat], 'p-value': [p_value]})\n",
        "resultados = pd.concat([resultados, new_row], ignore_index=True)\n",
        "\n",
        "# Print the table\n",
        "print(resultados)"
      ],
      "metadata": {
        "id": "lI39sSBtPQKb"
      },
      "execution_count": null,
      "outputs": []
    },
    {
      "cell_type": "markdown",
      "source": [
        "questao 6"
      ],
      "metadata": {
        "id": "tazYd11lOu0A"
      }
    },
    {
      "cell_type": "code",
      "source": [
        "import pandas as pd\n",
        "from scipy import stats\n",
        "\n",
        "# Assumindo que você tem um DataFrame chamado 'df' com as colunas:\n",
        "# 'Etnia', 'PressaoArterial', 'Idade'\n",
        "\n",
        "# 1. Questão 6: Teste ANOVA para comparar a pressão arterial entre grupos étnicos\n",
        "# Agrupar os dados por etnia e calcular a média da pressão arterial\n",
        "grouped = df.groupby('Etnia')['Pressao_Arterial'].mean()\n",
        "\n",
        "# Realizar o teste ANOVA\n",
        "f_stat, p_value = stats.f_oneway(*[group for name, group in df.groupby('Etnia')['Pressao_Arterial']])\n",
        "\n",
        "# Imprimir os resultados\n",
        "print(\"Teste ANOVA:\")\n",
        "print(\"F-statistic:\", f_stat)\n",
        "print(\"p-value:\", p_value)\n",
        "\n",
        "if p_value < 0.05:\n",
        "    print(\"Há evidência de que a pressão arterial média difere entre os grupos étnicos.\")\n",
        "else:\n",
        "    print(\"Não há evidência suficiente para concluir que a pressão arterial média difere entre os grupos étnicos.\")\n",
        "\n",
        "# 2. Questão 7: Teste de correlação entre idade e pressão arterial\n",
        "# Calcular o coeficiente de correlação de Pearson\n",
        "corr, p_value = stats.pearsonr(df['Idade'], df['Pressao_Arterial'])\n",
        "\n",
        "# Imprimir os resultados\n",
        "print(\"\\nTeste de Correlação:\")\n",
        "print(\"Coeficiente de correlação de Pearson:\", corr)\n",
        "print(\"p-value:\", p_value)\n",
        "\n",
        "if p_value < 0.05:\n",
        "    print(\"Há uma correlação significativa entre idade e pressão arterial.\")\n",
        "else:\n",
        "    print(\"Não há evidência de correlação entre idade e pressão arterial.\")"
      ],
      "metadata": {
        "id": "IiwKIJW6OwX9"
      },
      "execution_count": null,
      "outputs": []
    },
    {
      "cell_type": "markdown",
      "source": [
        "questao 7"
      ],
      "metadata": {
        "id": "XzJaYfaFRhvY"
      }
    },
    {
      "cell_type": "code",
      "source": [
        "import pandas as pd\n",
        "from scipy.stats import chi2_contingency\n",
        "\n",
        "# Assumindo que você tem um DataFrame chamado 'df' com as colunas:\n",
        "# 'Genero' (masculino ou feminino) e 'Condicoes_Saude' (sim ou não)\n",
        "\n",
        "# Criar uma tabela de contingência\n",
        "contingency_table = pd.crosstab(df['Genero'], df['Nome_Estado_Saude'])\n",
        "\n",
        "# Realizar o teste qui-quadrado\n",
        "chi2, p, dof, expected = chi2_contingency(contingency_table)\n",
        "\n",
        "# Imprimir os resultados\n",
        "print(\"Tabela de contingência:\")\n",
        "print(contingency_table)\n",
        "print(\"\\nResultados do teste qui-quadrado:\")\n",
        "print(\"Qui-quadrado:\", chi2)\n",
        "print(\"p-value:\", p)\n",
        "print(\"Graus de liberdade:\", dof)\n",
        "\n",
        "# Interpretar os resultados\n",
        "if p < 0.05:\n",
        "    print(\"Há evidência de associação entre gênero e condições de saúde adicionais.\")\n",
        "else:\n",
        "    print(\"Não há evidência suficiente para concluir que há associação entre gênero e condições de saúde adicionais.\")"
      ],
      "metadata": {
        "id": "tOYJiTEsRi0F"
      },
      "execution_count": null,
      "outputs": []
    },
    {
      "cell_type": "markdown",
      "source": [
        "questao8"
      ],
      "metadata": {
        "id": "lV3BpTgCSVWT"
      }
    },
    {
      "cell_type": "code",
      "source": [
        "import pandas as pd\n",
        "import numpy as np\n",
        "\n",
        "# ... (seu código para carregar os dados)\n",
        "\n",
        "# Filtrar os dados, ignorando a diferenciação entre maiúsculas e minúsculas\n",
        "df_com_condicoes = df[df['Nome_Estado_Saude'].str.lower() == 'com condições de saúde adicionais']\n",
        "\n",
        "# Verificar se há dados suficientes\n",
        "if len(df_com_condicoes) > 0:\n",
        "    # Remover linhas com valores nulos na pressão arterial (opcional)\n",
        "    df_com_condicoes = df_com_condicoes.dropna(subset=['Pressao_Arterial'])\n",
        "\n",
        "    # Calcular a média da pressão arterial\n",
        "    media_pressao_arterial = df_com_condicoes['Pressao_Arterial'].mean()\n",
        "    print(\"A média da pressão arterial para pacientes com condições de saúde adicionais é:\", media_pressao_arterial)\n",
        "else:\n",
        "    print(\"Não há dados suficientes para calcular a média da pressão arterial para pacientes com condições de saúde adicionais.\")"
      ],
      "metadata": {
        "id": "JvidxNCmUdo2"
      },
      "execution_count": null,
      "outputs": []
    },
    {
      "cell_type": "code",
      "source": [
        "import pandas as pd\n",
        "import numpy as np\n",
        "from scipy import stats\n",
        "\n",
        "# ... (seu código para carregar os dados)\n",
        "\n",
        "# Filtrar os dados, ignorando a diferenciação entre maiúsculas e minúsculas\n",
        "df_com_condicoes = df[df['Nome_Estado_Saude'].str.lower() == 'com condições de saúde adicionais']\n",
        "\n",
        "# Verificar se há dados suficientes\n",
        "if len(df_com_condicoes) > 0:\n",
        "    # Remover linhas com valores nulos na pressão arterial (opcional)\n",
        "    df_com_condicoes = df_com_condicoes.dropna(subset=['Pressao_Arterial'])\n",
        "\n",
        "    # Calcular a média, desvio padrão e tamanho da amostra\n",
        "    media = df_com_condicoes['Pressao_Arterial'].mean()\n",
        "    desvio_padrao = df_com_condicoes['Pressao_Arterial'].std()\n",
        "    n = len(df_com_condicoes)\n",
        "\n",
        "    # Nível de confiança e cálculo do valor crítico t\n",
        "    nivel_confianca = 0.95\n",
        "    alfa = 1 - nivel_confianca\n",
        "    graus_liberdade = n - 1\n",
        "    t_critico = stats.t.ppf(1 - alfa/2, graus_liberdade)\n",
        "\n",
        "    # Calcular o erro padrão e o intervalo de confiança\n",
        "    erro_padrao = desvio_padrao / np.sqrt(n)\n",
        "    margem_erro = t_critico * erro_padrao\n",
        "    intervalo_confianca = (media - margem_erro, media + margem_erro)\n",
        "\n",
        "    print(\"A média da pressão arterial para pacientes com condições de saúde adicionais é:\", media)\n",
        "    print(\"O intervalo de confiança a 95% é:\", intervalo_confianca)\n",
        "else:\n",
        "    print(\"Não há dados suficientes para calcular a média da pressão arterial para pacientes com condições de saúde adicionais.\")"
      ],
      "metadata": {
        "id": "i6R-QmOzUrW_"
      },
      "execution_count": null,
      "outputs": []
    },
    {
      "cell_type": "markdown",
      "source": [
        "questao9"
      ],
      "metadata": {
        "id": "f9AfApGmUx6z"
      }
    },
    {
      "cell_type": "code",
      "source": [
        "import pandas as pd\n",
        "import numpy as np\n",
        "import matplotlib.pyplot as plt\n",
        "from scipy import stats\n",
        "\n",
        "# Carregar os dados (substitua 'seu_arquivo.csv' pelo nome do seu arquivo)\n",
        "df = pd.read_csv('/content/drive/MyDrive/testes_de_hipoteses/pacientes.csv')\n",
        "\n",
        "# Extrair a coluna da pressão arterial\n",
        "pressao_arterial = df['Pressao_Arterial']\n",
        "\n",
        "# Teste de Shapiro-Wilk\n",
        "shapiro_test = stats.shapiro(pressao_arterial)\n",
        "print(\"Teste de Shapiro-Wilk:\")\n",
        "print(f\"Estatística de teste: {shapiro_test.statistic:.3f}\")\n",
        "print(f\"p-valor: {shapiro_test.pvalue:.3f}\")\n",
        "\n",
        "# Visualização: Histograma\n",
        "plt.hist(pressao_arterial, bins=30, density=True)\n",
        "plt.title('Histograma da Pressão Arterial')\n",
        "plt.xlabel('Pressão Arterial')\n",
        "plt.ylabel('Densidade')\n",
        "plt.show()\n",
        "\n",
        "# Visualização: QQ-plot\n",
        "stats.probplot(pressao_arterial, plot=plt)\n",
        "plt.title('QQ-plot da Pressão Arterial')\n",
        "plt.show()"
      ],
      "metadata": {
        "id": "VyoafMEgVX1V"
      },
      "execution_count": null,
      "outputs": []
    }
  ]
}